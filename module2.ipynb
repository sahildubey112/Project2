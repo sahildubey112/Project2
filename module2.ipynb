{
  "nbformat": 4,
  "nbformat_minor": 0,
  "metadata": {
    "colab": {
      "provenance": []
    },
    "kernelspec": {
      "name": "python3",
      "display_name": "Python 3"
    },
    "language_info": {
      "name": "python"
    }
  },
  "cells": [
    {
      "cell_type": "markdown",
      "source": [
        "#1. Write a simple program in HTML  that displays the heading \"HTML defines the content and structure of your website” on the web browser?\n",
        "\n",
        "#Ans."
      ],
      "metadata": {
        "id": "s6vbhtCwD3MC"
      }
    },
    {
      "cell_type": "code",
      "source": [
        "from IPython.display import HTML\n",
        "\n",
        "html_code = \"\"\"\n",
        "<html>\n",
        "      <head>\n",
        "            <title>Program</title>\n",
        "\n",
        "      </head>\n",
        "\n",
        "      <body>\n",
        "      <h1>HTML defines the content and structure of your website </h1>\n",
        "      </body>\n",
        "\n",
        "\n",
        "</html>\n",
        "\"\"\"\n",
        "\n",
        "display(HTML(html_code))"
      ],
      "metadata": {
        "colab": {
          "base_uri": "https://localhost:8080/",
          "height": 74
        },
        "id": "NAyCVklMEKWA",
        "outputId": "71f1c803-064f-46ee-e687-38c4437c8cf1"
      },
      "execution_count": 14,
      "outputs": [
        {
          "output_type": "display_data",
          "data": {
            "text/plain": [
              "<IPython.core.display.HTML object>"
            ],
            "text/html": [
              "\n",
              "<html>\n",
              "      <head>\n",
              "            <title>Program</title>\n",
              "\n",
              "      </head>\n",
              "\n",
              "      <body>\n",
              "      <h1>HTML defines the content and structure of your website </h1>\n",
              "      </body>\n",
              "\n",
              "\n",
              "</html>\n"
            ]
          },
          "metadata": {}
        }
      ]
    },
    {
      "cell_type": "markdown",
      "source": [
        "\n",
        "#2. Explain the purpose of comments in HTML and provide an example of how to use comments in an HTML document?\n",
        "\n",
        "Ans- A comment is a extra code that use by developer to simplify the code these are the extra lines that are not visible to users.\n",
        "\n"
      ],
      "metadata": {
        "id": "CSdHHoi7HBtv"
      }
    },
    {
      "cell_type": "code",
      "source": [
        "from IPython.display import HTML\n",
        "\n",
        "html_code=\"\"\"\n",
        "<html>\n",
        "     <head>Title</head>\n",
        "     <body>\n",
        "     <p>Hello World</p>\n",
        "     <!--This is a comment-->\n",
        "     </body>\n",
        "\n",
        "</html>\n",
        "\"\"\"\n",
        "\n",
        "display(HTML(html_code))\n",
        "\n",
        "\n"
      ],
      "metadata": {
        "colab": {
          "base_uri": "https://localhost:8080/",
          "height": 64
        },
        "id": "IU7kMVP_IHAY",
        "outputId": "e5a8df3d-4143-45d1-b03c-50b48ce08e88"
      },
      "execution_count": 16,
      "outputs": [
        {
          "output_type": "display_data",
          "data": {
            "text/plain": [
              "<IPython.core.display.HTML object>"
            ],
            "text/html": [
              "\n",
              "<html>\n",
              "     <head>Title</head>\n",
              "     <body>\n",
              "     <p>Hello World</p>\n",
              "     <!--This is a comment-->\n",
              "     </body>\n",
              "\n",
              "</html>\n"
            ]
          },
          "metadata": {}
        }
      ]
    },
    {
      "cell_type": "markdown",
      "source": [
        "#3. Write an HTML program that includes a heading, a paragraph of text, a horizontal line, and a line break. Arrange these elements to create a simple web page layout?\n",
        "\n",
        "Ans."
      ],
      "metadata": {
        "id": "SHuU5pa4JaCg"
      }
    },
    {
      "cell_type": "code",
      "source": [
        "from IPython.display import HTML\n",
        "html_code=\"\"\"\n",
        "<html>\n",
        "     <head>\n",
        "\n",
        "     <title>My First HTML Page</title>\n",
        "\n",
        "     </head>\n",
        "\n",
        "     <body>\n",
        "     <h1>This is heading</h1>\n",
        "     <p>This is a paragraph</p>\n",
        "     <hr>\n",
        "     <br>\n",
        "     <ol>\n",
        "        <li>This is heading</li>\n",
        "        <li>This is a paragraph</li>\n",
        "        <li>This is a horizontal line</li>\n",
        "        <li>This is a line break</li>\n",
        "\n",
        "     </ol>\n",
        "     </body>\n",
        "</html>\n",
        "\n",
        "\"\"\"\n",
        "display(HTML(html_code))\n"
      ],
      "metadata": {
        "colab": {
          "base_uri": "https://localhost:8080/",
          "height": 224
        },
        "id": "s7wjIDN3JvYF",
        "outputId": "b0c02b85-9afb-4738-9aa8-36c79abade2d"
      },
      "execution_count": 17,
      "outputs": [
        {
          "output_type": "display_data",
          "data": {
            "text/plain": [
              "<IPython.core.display.HTML object>"
            ],
            "text/html": [
              "\n",
              "<html>\n",
              "     <head>\n",
              "\n",
              "     <title>My First HTML Page</title>\n",
              "     \n",
              "     </head>\n",
              "\n",
              "     <body>\n",
              "     <h1>This is heading</h1>\n",
              "     <p>This is a paragraph</p>\n",
              "     <hr>\n",
              "     <br>\n",
              "     <ol>\n",
              "        <li>This is heading</li>\n",
              "        <li>This is a paragraph</li>\n",
              "        <li>This is a horizontal line</li>\n",
              "        <li>This is a line break</li>\n",
              "     \n",
              "     </ol>\n",
              "     </body>\n",
              "</html>\n",
              "\n"
            ]
          },
          "metadata": {}
        }
      ]
    },
    {
      "cell_type": "markdown",
      "source": [
        "#4. Write a short note on Tag and element with an example?\n",
        "Ans. A Tag is smallest individual unit in HTML. It is written in angular bracket.\n",
        "\n",
        "Few tags in HTML are <html>, <head>, <title>, <body>, <p>, <hr>, <br> etc.\n",
        "\n",
        "Element: Anything that is written between the tags are called element.\n",
        "\n",
        "Example:- <p> This is body</p>\n",
        "\n",
        "Here, \"This is body\", is element."
      ],
      "metadata": {
        "id": "gN1LfvDNL8tR"
      }
    },
    {
      "cell_type": "markdown",
      "source": [
        "#5. What is the DOCTYPE Declaration in HTML?\n",
        "Ans. It is a line of code that is written in the beginning of the code it tells the browser to in which version of HTML the page is written."
      ],
      "metadata": {
        "id": "qUWFmgN9N0iM"
      }
    }
  ]
}